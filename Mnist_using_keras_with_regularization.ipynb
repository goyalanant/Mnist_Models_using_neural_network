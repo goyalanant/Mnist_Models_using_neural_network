{
 "cells": [
  {
   "cell_type": "code",
   "execution_count": 1,
   "metadata": {},
   "outputs": [],
   "source": [
    "import tensorflow as tf\n",
    "from tensorflow.keras.models import Sequential\n",
    "from tensorflow.keras.layers import Dense,Conv2D,MaxPooling2D,Flatten,Dropout\n",
    "from sklearn import datasets\n",
    "from tensorflow.keras.callbacks import CSVLogger\n",
    "from sklearn.model_selection import train_test_split\n",
    "import numpy as np\n",
    "import pandas as pd\n",
    "import matplotlib.pyplot as plt\n",
    "%matplotlib inline"
   ]
  },
  {
   "cell_type": "code",
   "execution_count": 2,
   "metadata": {},
   "outputs": [],
   "source": [
    "model = Sequential()"
   ]
  },
  {
   "cell_type": "code",
   "execution_count": 3,
   "metadata": {},
   "outputs": [],
   "source": [
    "model.add(Conv2D(32,5,strides = 1,padding = 'same',activation = 'relu',input_shape = (28,28,1)))\n",
    "model.add(MaxPooling2D(pool_size = (2, 2), strides = (2,2), padding = 'same'))\n",
    "model.add(Conv2D(64,5,strides = 1,padding = 'same',activation = 'relu'))\n",
    "model.add(MaxPooling2D(pool_size = (2, 2), strides = (2,2), padding = 'same'))\n",
    "model.add(Flatten())\n",
    "model.add(Dense(units = 1024 , activation = 'relu'))\n",
    "model.add(Dropout(rate = 0.2))\n",
    "model.add(Dense(units = 10 , activation = 'sigmoid'))"
   ]
  },
  {
   "cell_type": "code",
   "execution_count": 4,
   "metadata": {},
   "outputs": [],
   "source": [
    "model.compile(optimizer = 'adam',loss = 'binary_crossentropy', metrics = ['accuracy'] )"
   ]
  },
  {
   "cell_type": "code",
   "execution_count": 5,
   "metadata": {},
   "outputs": [
    {
     "name": "stdout",
     "output_type": "stream",
     "text": [
      "Model: \"sequential\"\n",
      "_________________________________________________________________\n",
      "Layer (type)                 Output Shape              Param #   \n",
      "=================================================================\n",
      "conv2d (Conv2D)              (None, 28, 28, 32)        832       \n",
      "_________________________________________________________________\n",
      "max_pooling2d (MaxPooling2D) (None, 14, 14, 32)        0         \n",
      "_________________________________________________________________\n",
      "conv2d_1 (Conv2D)            (None, 14, 14, 64)        51264     \n",
      "_________________________________________________________________\n",
      "max_pooling2d_1 (MaxPooling2 (None, 7, 7, 64)          0         \n",
      "_________________________________________________________________\n",
      "flatten (Flatten)            (None, 3136)              0         \n",
      "_________________________________________________________________\n",
      "dense (Dense)                (None, 1024)              3212288   \n",
      "_________________________________________________________________\n",
      "dropout (Dropout)            (None, 1024)              0         \n",
      "_________________________________________________________________\n",
      "dense_1 (Dense)              (None, 10)                10250     \n",
      "=================================================================\n",
      "Total params: 3,274,634\n",
      "Trainable params: 3,274,634\n",
      "Non-trainable params: 0\n",
      "_________________________________________________________________\n"
     ]
    }
   ],
   "source": [
    "model.summary()"
   ]
  },
  {
   "cell_type": "code",
   "execution_count": 6,
   "metadata": {},
   "outputs": [],
   "source": [
    "(X_train,l_train),(X_test,l_test) = tf.keras.datasets.mnist.load_data(path='mnist.npz')"
   ]
  },
  {
   "cell_type": "code",
   "execution_count": 7,
   "metadata": {},
   "outputs": [],
   "source": [
    "#converting label using one hot coding\n",
    "Y_train = np.zeros((l_train.shape[0], l_train.max()+1), dtype=np.int32)\n",
    "Y_train[np.arange(l_train.shape[0]), l_train] = 1\n",
    "Y_test = np.zeros((l_test.shape[0], l_test.max()+1), dtype=np.int32)\n",
    "Y_test[np.arange(l_test.shape[0]), l_test] = 1"
   ]
  },
  {
   "cell_type": "code",
   "execution_count": 8,
   "metadata": {},
   "outputs": [],
   "source": [
    "img_rows=X_train[0].shape[0]\n",
    "img_cols=X_test[0].shape[1]\n",
    "X_train=X_train.reshape(X_train.shape[0],img_rows,img_cols,1)\n",
    "X_test=X_test.reshape(X_test.shape[0],img_rows,img_cols,1)"
   ]
  },
  {
   "cell_type": "code",
   "execution_count": 9,
   "metadata": {},
   "outputs": [
    {
     "name": "stdout",
     "output_type": "stream",
     "text": [
      "Epoch 1/20\n",
      "60/60 [==============================] - 28s 466ms/step - loss: 1.1117 - accuracy: 0.6684 - val_loss: 0.0346 - val_accuracy: 0.9526\n",
      "Epoch 2/20\n",
      "60/60 [==============================] - 28s 468ms/step - loss: 0.0272 - accuracy: 0.9623 - val_loss: 0.0161 - val_accuracy: 0.9768\n",
      "Epoch 3/20\n",
      "60/60 [==============================] - 28s 470ms/step - loss: 0.0156 - accuracy: 0.9785 - val_loss: 0.0115 - val_accuracy: 0.9836\n",
      "Epoch 4/20\n",
      "60/60 [==============================] - 28s 472ms/step - loss: 0.0113 - accuracy: 0.9859 - val_loss: 0.0096 - val_accuracy: 0.9857\n",
      "Epoch 5/20\n",
      "60/60 [==============================] - 28s 474ms/step - loss: 0.0085 - accuracy: 0.9890 - val_loss: 0.0079 - val_accuracy: 0.9879\n",
      "Epoch 6/20\n",
      "60/60 [==============================] - 29s 475ms/step - loss: 0.0067 - accuracy: 0.9914 - val_loss: 0.0072 - val_accuracy: 0.9884\n",
      "Epoch 7/20\n",
      "60/60 [==============================] - 29s 484ms/step - loss: 0.0053 - accuracy: 0.9936 - val_loss: 0.0075 - val_accuracy: 0.9898\n",
      "Epoch 8/20\n",
      "60/60 [==============================] - 29s 484ms/step - loss: 0.0045 - accuracy: 0.9949 - val_loss: 0.0077 - val_accuracy: 0.9884\n",
      "Epoch 9/20\n",
      "60/60 [==============================] - 29s 480ms/step - loss: 0.0039 - accuracy: 0.9959 - val_loss: 0.0064 - val_accuracy: 0.9898\n",
      "Epoch 10/20\n",
      "60/60 [==============================] - 29s 480ms/step - loss: 0.0030 - accuracy: 0.9968 - val_loss: 0.0064 - val_accuracy: 0.9899\n",
      "Epoch 11/20\n",
      "60/60 [==============================] - 29s 490ms/step - loss: 0.0026 - accuracy: 0.9975 - val_loss: 0.0060 - val_accuracy: 0.9905\n",
      "Epoch 12/20\n",
      "60/60 [==============================] - 29s 478ms/step - loss: 0.0021 - accuracy: 0.9981 - val_loss: 0.0068 - val_accuracy: 0.9895\n",
      "Epoch 13/20\n",
      "60/60 [==============================] - 29s 480ms/step - loss: 0.0019 - accuracy: 0.9983 - val_loss: 0.0063 - val_accuracy: 0.9920\n",
      "Epoch 14/20\n",
      "60/60 [==============================] - 29s 481ms/step - loss: 0.0016 - accuracy: 0.9988 - val_loss: 0.0061 - val_accuracy: 0.9916\n",
      "Epoch 15/20\n",
      "60/60 [==============================] - 29s 485ms/step - loss: 0.0013 - accuracy: 0.9991 - val_loss: 0.0060 - val_accuracy: 0.9916\n",
      "Epoch 16/20\n",
      "60/60 [==============================] - 29s 478ms/step - loss: 0.0011 - accuracy: 0.9992 - val_loss: 0.0064 - val_accuracy: 0.9911\n",
      "Epoch 17/20\n",
      "60/60 [==============================] - 29s 482ms/step - loss: 9.0365e-04 - accuracy: 0.9996 - val_loss: 0.0064 - val_accuracy: 0.9921\n",
      "Epoch 18/20\n",
      "60/60 [==============================] - 29s 492ms/step - loss: 9.5919e-04 - accuracy: 0.9995 - val_loss: 0.0065 - val_accuracy: 0.9913\n",
      "Epoch 19/20\n",
      "60/60 [==============================] - 29s 484ms/step - loss: 8.8667e-04 - accuracy: 0.9994 - val_loss: 0.0067 - val_accuracy: 0.9906\n",
      "Epoch 20/20\n",
      "60/60 [==============================] - 29s 491ms/step - loss: 7.6477e-04 - accuracy: 0.9997 - val_loss: 0.0065 - val_accuracy: 0.9913\n"
     ]
    },
    {
     "data": {
      "text/plain": [
       "<tensorflow.python.keras.callbacks.History at 0x17657be38b0>"
      ]
     },
     "execution_count": 9,
     "metadata": {},
     "output_type": "execute_result"
    }
   ],
   "source": [
    "model.fit(X_train,Y_train,epochs = 20,batch_size = 1000,validation_data = (X_test,Y_test),callbacks = [CSVLogger(\"MNIST_with_dropout.csv\",append = True)])"
   ]
  },
  {
   "cell_type": "code",
   "execution_count": 10,
   "metadata": {},
   "outputs": [],
   "source": [
    "data = pd.read_csv('MNIST_with_dropout.csv')"
   ]
  },
  {
   "cell_type": "code",
   "execution_count": 11,
   "metadata": {},
   "outputs": [
    {
     "data": {
      "text/plain": [
       "Text(0.5, 1.0, 'Epoch vs  accuracy')"
      ]
     },
     "execution_count": 11,
     "metadata": {},
     "output_type": "execute_result"
    },
    {
     "data": {
      "image/png": "[encoded data removed]",
      "text/plain": [
       "<Figure size 1080x1080 with 2 Axes>"
      ]
     },
     "metadata": {},
     "output_type": "display_data"
    }
   ],
   "source": [
    "plt.style.use('seaborn')\n",
    "plt.figure(figsize = (15.0,15.0))\n",
    "\n",
    "\n",
    "plt.subplot(2,2,1)\n",
    "plt.plot(data['epoch'],data['loss'])\n",
    "plt.plot(data['epoch'],data['val_loss'])\n",
    "plt.legend([\"training\", \"testing\"], loc =\"upper right\")\n",
    "plt.xlabel(\"epoch\")\n",
    "plt.ylabel(\" losses\")\n",
    "plt.title(\"Epoch vs  losses\")\n",
    "\n",
    "plt.subplot(2,2,2)\n",
    "plt.plot(data['epoch'],data['accuracy'])\n",
    "plt.plot(data['epoch'],data['val_accuracy'])\n",
    "plt.legend([\"training\", \"testing\"], loc =\"lower right\")\n",
    "plt.xlabel(\"epoch\")\n",
    "plt.ylabel(\"accuracy\")\n",
    "plt.title(\"Epoch vs  accuracy\")\n",
    "\n"
   ]
  }
 ],
 "metadata": {
  "kernelspec": {
   "display_name": "Python 3",
   "language": "python",
   "name": "python3"
  },
  "language_info": {
   "codemirror_mode": {
    "name": "ipython",
    "version": 3
   },
   "file_extension": ".py",
   "mimetype": "text/x-python",
   "name": "python",
   "nbconvert_exporter": "python",
   "pygments_lexer": "ipython3",
   "version": "3.8.5"
  }
 },
 "nbformat": 4,
 "nbformat_minor": 4
}
